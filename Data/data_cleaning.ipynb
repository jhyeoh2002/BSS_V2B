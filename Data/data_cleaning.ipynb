{
 "cells": [
  {
   "cell_type": "code",
   "execution_count": 54,
   "metadata": {},
   "outputs": [],
   "source": [
    "import matplotlib.pyplot as plt\n",
    "import pandas as pd\n",
    "import os "
   ]
  },
  {
   "cell_type": "code",
   "execution_count": 51,
   "metadata": {},
   "outputs": [],
   "source": [
    "rawpath = './Raw Data'\n",
    "\n",
    "filenames = os.listdir(rawpath)\n",
    "filenames.sort()\n",
    "\n",
    "stationA = pd.DataFrame(columns=['time','batt_num'])\n",
    "stationB = pd.DataFrame(columns=['time','batt_num'])\n",
    "\n",
    "for f in filenames:\n",
    "    if 'B' in f:\n",
    "        raw = pd.read_csv(rawpath+'/'+f)\n",
    "        stationB = pd.concat([stationB,raw])\n",
    "    elif 'A' in f:\n",
    "        raw = pd.read_csv(rawpath+'/'+f)\n",
    "        stationA = pd.concat([stationA,raw])\n",
    "    else:\n",
    "        continue\n",
    "    "
   ]
  },
  {
   "cell_type": "code",
   "execution_count": null,
   "metadata": {},
   "outputs": [
    {
     "data": {
      "text/plain": [
       "[<matplotlib.lines.Line2D at 0x2863f6330>]"
      ]
     },
     "execution_count": 56,
     "metadata": {},
     "output_type": "execute_result"
    }
   ],
   "source": [
    "plt.figure()\n",
    "plt.plot(stationA['time'],stationA['batt_num'])"
   ]
  },
  {
   "cell_type": "code",
   "execution_count": null,
   "metadata": {},
   "outputs": [],
   "source": []
  }
 ],
 "metadata": {
  "kernelspec": {
   "display_name": "BSSV2B",
   "language": "python",
   "name": "python3"
  },
  "language_info": {
   "codemirror_mode": {
    "name": "ipython",
    "version": 3
   },
   "file_extension": ".py",
   "mimetype": "text/x-python",
   "name": "python",
   "nbconvert_exporter": "python",
   "pygments_lexer": "ipython3",
   "version": "3.12.7"
  }
 },
 "nbformat": 4,
 "nbformat_minor": 2
}
